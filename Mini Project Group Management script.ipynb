{
 "cells": [
  {
   "cell_type": "code",
   "execution_count": 1,
   "metadata": {},
   "outputs": [],
   "source": [
    "import pandas as p"
   ]
  },
  {
   "cell_type": "code",
   "execution_count": 2,
   "metadata": {},
   "outputs": [],
   "source": [
    "df=p.read_csv('Mini Project (Responses).csv')\n",
    "df2=p.read_csv('Student.csv')"
   ]
  },
  {
   "cell_type": "code",
   "execution_count": 3,
   "metadata": {
    "scrolled": true
   },
   "outputs": [
    {
     "data": {
      "text/html": [
       "<div>\n",
       "<style scoped>\n",
       "    .dataframe tbody tr th:only-of-type {\n",
       "        vertical-align: middle;\n",
       "    }\n",
       "\n",
       "    .dataframe tbody tr th {\n",
       "        vertical-align: top;\n",
       "    }\n",
       "\n",
       "    .dataframe thead th {\n",
       "        text-align: right;\n",
       "    }\n",
       "</style>\n",
       "<table border=\"1\" class=\"dataframe\">\n",
       "  <thead>\n",
       "    <tr style=\"text-align: right;\">\n",
       "      <th></th>\n",
       "      <th>Timestamp</th>\n",
       "      <th>Project domain/Project topic</th>\n",
       "      <th>Describe your project shortly</th>\n",
       "      <th>Class Roll of Member 1</th>\n",
       "      <th>Class Roll of Member 2</th>\n",
       "      <th>Class Roll of Member 3</th>\n",
       "      <th>Class Roll of Member 4</th>\n",
       "      <th>Class Roll of Member 5</th>\n",
       "    </tr>\n",
       "  </thead>\n",
       "  <tbody>\n",
       "    <tr>\n",
       "      <th>0</th>\n",
       "      <td>3/26/2020 1:13:20</td>\n",
       "      <td>ML integrated web application</td>\n",
       "      <td>Our web application should take input as a han...</td>\n",
       "      <td>65</td>\n",
       "      <td>80</td>\n",
       "      <td>83</td>\n",
       "      <td>110</td>\n",
       "      <td>NaN</td>\n",
       "    </tr>\n",
       "  </tbody>\n",
       "</table>\n",
       "</div>"
      ],
      "text/plain": [
       "           Timestamp   Project domain/Project topic  \\\n",
       "0  3/26/2020 1:13:20  ML integrated web application   \n",
       "\n",
       "                       Describe your project shortly  Class Roll of Member 1  \\\n",
       "0  Our web application should take input as a han...                      65   \n",
       "\n",
       "   Class Roll of Member 2  Class Roll of Member 3  Class Roll of Member 4  \\\n",
       "0                      80                      83                     110   \n",
       "\n",
       "   Class Roll of Member 5  \n",
       "0                     NaN  "
      ]
     },
     "execution_count": 3,
     "metadata": {},
     "output_type": "execute_result"
    }
   ],
   "source": [
    "df.head(2)"
   ]
  },
  {
   "cell_type": "code",
   "execution_count": 4,
   "metadata": {},
   "outputs": [
    {
     "data": {
      "text/html": [
       "<div>\n",
       "<style scoped>\n",
       "    .dataframe tbody tr th:only-of-type {\n",
       "        vertical-align: middle;\n",
       "    }\n",
       "\n",
       "    .dataframe tbody tr th {\n",
       "        vertical-align: top;\n",
       "    }\n",
       "\n",
       "    .dataframe thead th {\n",
       "        text-align: right;\n",
       "    }\n",
       "</style>\n",
       "<table border=\"1\" class=\"dataframe\">\n",
       "  <thead>\n",
       "    <tr style=\"text-align: right;\">\n",
       "      <th></th>\n",
       "      <th>Class Roll</th>\n",
       "      <th>STUDENT'S NAME</th>\n",
       "    </tr>\n",
       "  </thead>\n",
       "  <tbody>\n",
       "    <tr>\n",
       "      <th>0</th>\n",
       "      <td>63.0</td>\n",
       "      <td>PRAKRITI GHOSH</td>\n",
       "    </tr>\n",
       "    <tr>\n",
       "      <th>1</th>\n",
       "      <td>64.0</td>\n",
       "      <td>PRALAY GHOSH</td>\n",
       "    </tr>\n",
       "  </tbody>\n",
       "</table>\n",
       "</div>"
      ],
      "text/plain": [
       "   Class Roll  STUDENT'S NAME\n",
       "0        63.0  PRAKRITI GHOSH\n",
       "1        64.0    PRALAY GHOSH"
      ]
     },
     "execution_count": 4,
     "metadata": {},
     "output_type": "execute_result"
    }
   ],
   "source": [
    "df2.head(2)"
   ]
  },
  {
   "cell_type": "code",
   "execution_count": 5,
   "metadata": {},
   "outputs": [],
   "source": [
    "df3=p.DataFrame(columns=['Group No.','Roll','Members','Project Name','Project Details'])"
   ]
  },
  {
   "cell_type": "code",
   "execution_count": 6,
   "metadata": {},
   "outputs": [
    {
     "data": {
      "text/html": [
       "<div>\n",
       "<style scoped>\n",
       "    .dataframe tbody tr th:only-of-type {\n",
       "        vertical-align: middle;\n",
       "    }\n",
       "\n",
       "    .dataframe tbody tr th {\n",
       "        vertical-align: top;\n",
       "    }\n",
       "\n",
       "    .dataframe thead th {\n",
       "        text-align: right;\n",
       "    }\n",
       "</style>\n",
       "<table border=\"1\" class=\"dataframe\">\n",
       "  <thead>\n",
       "    <tr style=\"text-align: right;\">\n",
       "      <th></th>\n",
       "      <th>Group No.</th>\n",
       "      <th>Roll</th>\n",
       "      <th>Members</th>\n",
       "      <th>Project Name</th>\n",
       "      <th>Project Details</th>\n",
       "    </tr>\n",
       "  </thead>\n",
       "  <tbody>\n",
       "    <tr>\n",
       "      <th>0</th>\n",
       "      <td>1</td>\n",
       "      <td>65</td>\n",
       "      <td>PRITIMOY SARKAR</td>\n",
       "      <td>ML integrated web application</td>\n",
       "      <td>Our web application should take input as a han...</td>\n",
       "    </tr>\n",
       "    <tr>\n",
       "      <th>1</th>\n",
       "      <td>NaN</td>\n",
       "      <td>80</td>\n",
       "      <td>SANDIPAN SAU</td>\n",
       "      <td>NaN</td>\n",
       "      <td>NaN</td>\n",
       "    </tr>\n",
       "    <tr>\n",
       "      <th>2</th>\n",
       "      <td>NaN</td>\n",
       "      <td>83</td>\n",
       "      <td>SASWATA MUKHOPADHYAY</td>\n",
       "      <td>NaN</td>\n",
       "      <td>NaN</td>\n",
       "    </tr>\n",
       "    <tr>\n",
       "      <th>3</th>\n",
       "      <td>NaN</td>\n",
       "      <td>110</td>\n",
       "      <td>SUPRIYO DAS</td>\n",
       "      <td>NaN</td>\n",
       "      <td>NaN</td>\n",
       "    </tr>\n",
       "  </tbody>\n",
       "</table>\n",
       "</div>"
      ],
      "text/plain": [
       "  Group No. Roll               Members                   Project Name  \\\n",
       "0         1   65       PRITIMOY SARKAR  ML integrated web application   \n",
       "1       NaN   80          SANDIPAN SAU                            NaN   \n",
       "2       NaN   83  SASWATA MUKHOPADHYAY                            NaN   \n",
       "3       NaN  110           SUPRIYO DAS                            NaN   \n",
       "\n",
       "                                     Project Details  \n",
       "0  Our web application should take input as a han...  \n",
       "1                                                NaN  \n",
       "2                                                NaN  \n",
       "3                                                NaN  "
      ]
     },
     "execution_count": 6,
     "metadata": {},
     "output_type": "execute_result"
    }
   ],
   "source": [
    "count=0\n",
    "for i in range(len(df['Timestamp'])):\n",
    "    df3.at[count,'Group No.']=i+1\n",
    "    df3.at[count,'Project Name']=df.iat[count,1]\n",
    "    df3.at[count,'Project Details']=df.iat[count,2]\n",
    "    for j in range(3,8):\n",
    "        for k in range(0,68):\n",
    "            if (df.iat[i,j]==df2.iat[k,0]):\n",
    "                df3.at[count,'Roll']=int((df2.iat[k,0]))\n",
    "                df3.at[count,'Members']=df2.iat[k,1]\n",
    "                count+=1\n",
    "                break\n",
    "df3['Roll'].astype(int)\n",
    "df3.to_csv('output.csv',index=False)\n",
    "df3"
   ]
  }
 ],
 "metadata": {
  "kernelspec": {
   "display_name": "Python 3",
   "language": "python",
   "name": "python3"
  },
  "language_info": {
   "codemirror_mode": {
    "name": "ipython",
    "version": 3
   },
   "file_extension": ".py",
   "mimetype": "text/x-python",
   "name": "python",
   "nbconvert_exporter": "python",
   "pygments_lexer": "ipython3",
   "version": "3.7.3"
  }
 },
 "nbformat": 4,
 "nbformat_minor": 2
}
